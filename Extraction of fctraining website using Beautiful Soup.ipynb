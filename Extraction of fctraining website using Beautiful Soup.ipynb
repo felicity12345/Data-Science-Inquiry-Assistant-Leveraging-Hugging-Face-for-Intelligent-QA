{
 "cells": [
  {
   "cell_type": "code",
   "execution_count": 1,
   "id": "79b1526a",
   "metadata": {},
   "outputs": [],
   "source": [
    "import requests\n",
    "from bs4 import BeautifulSoup\n",
    "import re"
   ]
  },
  {
   "cell_type": "code",
   "execution_count": 2,
   "id": "0110aa99",
   "metadata": {},
   "outputs": [],
   "source": [
    "# copy the ULR of your webpages\n",
    "urls = [\"https://www.fctraining.org/complete-digital-marketing-course.php\", \"https://www.fctraining.org/data-science-machine-learning-ai-course.php\"]\n"
   ]
  },
  {
   "cell_type": "code",
   "execution_count": 3,
   "id": "0a1c6493",
   "metadata": {},
   "outputs": [],
   "source": [
    "# create empty string to store the extracted data\n",
    "text_data = \"\""
   ]
  },
  {
   "cell_type": "code",
   "execution_count": 4,
   "id": "ed39b42c",
   "metadata": {},
   "outputs": [],
   "source": [
    "# iterate over each url\n",
    "for url in urls:\n",
    "    # send a get request to webpage\n",
    "    response = requests.get(url)"
   ]
  },
  {
   "cell_type": "code",
   "execution_count": 7,
   "id": "6f8adc62",
   "metadata": {},
   "outputs": [],
   "source": [
    "# create beautifulSoup object and parse the HTMl content\n",
    "soup = BeautifulSoup(response.text, \"html.parser\")\n"
   ]
  },
  {
   "cell_type": "code",
   "execution_count": 8,
   "id": "eaac7b0a",
   "metadata": {},
   "outputs": [],
   "source": [
    "# Remove the HTML tags and schema tags\n",
    "text = soup.get_text()\n",
    "text = re.sub(r\"\\[.?\\]\",\"\", text) # Remove schema tags\n"
   ]
  },
  {
   "cell_type": "code",
   "execution_count": 9,
   "id": "046102ec",
   "metadata": {},
   "outputs": [],
   "source": [
    "# Removing  loading and trailing whitespaces\n",
    "text = text.strip()"
   ]
  },
  {
   "cell_type": "code",
   "execution_count": 11,
   "id": "b5ab6de2",
   "metadata": {},
   "outputs": [],
   "source": [
    "# Append the extracted text to the main text_data string\n",
    "text_data += text + \"\\n\\n\""
   ]
  },
  {
   "cell_type": "code",
   "execution_count": 12,
   "id": "cc716e5a",
   "metadata": {},
   "outputs": [],
   "source": [
    "# save the cleaned text data as .txt file\n",
    "with open(\"data.txt\", \"w\", encoding=\"utf-8\")as file:\n",
    "    file.write(text_data)"
   ]
  },
  {
   "cell_type": "code",
   "execution_count": 13,
   "id": "d8b6155b",
   "metadata": {},
   "outputs": [
    {
     "name": "stdout",
     "output_type": "stream",
     "text": [
      "HTML data extracted and saved as data.txt\n"
     ]
    }
   ],
   "source": [
    "print(\"HTML data extracted and saved as data.txt\")"
   ]
  },
  {
   "cell_type": "code",
   "execution_count": null,
   "id": "1a808881",
   "metadata": {},
   "outputs": [],
   "source": []
  }
 ],
 "metadata": {
  "kernelspec": {
   "display_name": "Python 3 (ipykernel)",
   "language": "python",
   "name": "python3"
  },
  "language_info": {
   "codemirror_mode": {
    "name": "ipython",
    "version": 3
   },
   "file_extension": ".py",
   "mimetype": "text/x-python",
   "name": "python",
   "nbconvert_exporter": "python",
   "pygments_lexer": "ipython3",
   "version": "3.9.18"
  }
 },
 "nbformat": 4,
 "nbformat_minor": 5
}
